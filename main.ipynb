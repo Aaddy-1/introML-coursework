{
 "cells": [
  {
   "cell_type": "code",
   "execution_count": 1,
   "id": "a1e9cdc8",
   "metadata": {},
   "outputs": [],
   "source": [
    "import numpy as np"
   ]
  },
  {
   "cell_type": "code",
   "execution_count": 2,
   "id": "5dbca182",
   "metadata": {},
   "outputs": [],
   "source": [
    "# Reading in the datasets\n",
    "clean_dataset = np.loadtxt('Dataset/clean_dataset.txt')\n",
    "noisy_dataset = np.loadtxt('Dataset/noisy_dataset.txt')"
   ]
  },
  {
   "cell_type": "code",
   "execution_count": 3,
   "id": "a74bec86",
   "metadata": {},
   "outputs": [
    {
     "name": "stdout",
     "output_type": "stream",
     "text": [
      "(2000, 8)\n"
     ]
    }
   ],
   "source": [
    "print(clean_dataset.shape)"
   ]
  },
  {
   "cell_type": "code",
   "execution_count": 4,
   "id": "68a0d43e",
   "metadata": {},
   "outputs": [
    {
     "name": "stdout",
     "output_type": "stream",
     "text": [
      "(2000, 8)\n"
     ]
    }
   ],
   "source": [
    "print(noisy_dataset.shape)"
   ]
  },
  {
   "cell_type": "code",
   "execution_count": 5,
   "id": "59a3d63c",
   "metadata": {},
   "outputs": [],
   "source": [
    "# Placeholder function to calculate entropy\n",
    "def cal_entropy(dataset):\n",
    "    pass"
   ]
  },
  {
   "cell_type": "code",
   "execution_count": null,
   "id": "30943eea",
   "metadata": {},
   "outputs": [],
   "source": [
    "# Function to calculate the best split feature and value\n",
    "# We will iterate through all possible split points\n",
    "def find_split(dataset):\n",
    "\n",
    "    # Initialisation\n",
    "    best_info_gain = -9999\n",
    "    best_feature_index = None\n",
    "    best_feature_value = None\n",
    "\n",
    "    entropy_complete_dataset = cal_entropy(dataset)\n",
    "\n",
    "    # Loop through all features\n",
    "    for feature_index in range(dataset.shape[1]-1):\n",
    "        # Get unique feature values\n",
    "        unique_feature_values = np.unique(dataset[:,feature_index])\n",
    "\n",
    "        # Find all potential split points (midpoint between the values)\n",
    "        potential_splits = []\n",
    "\n",
    "        for i in range(len(unique_feature_values)-1):\n",
    "            current_value = unique_feature_values[i]\n",
    "            next_value = unique_feature_values[i+1]\n",
    "\n",
    "            mid_value = (current_value+next_value)/2\n",
    "\n",
    "            potential_splits.append(mid_value)\n",
    "\n",
    "        for split_value in potential_splits:\n",
    "            left_dataset_list = []\n",
    "            right_dataset_list = []\n",
    "\n",
    "            for row in dataset:\n",
    "                if row[feature_index] <= split_value:\n",
    "                    left_dataset_list.append(row)\n",
    "                else:\n",
    "                    right_dataset_list.append(row)\n",
    "            \n",
    "            left_dataset = np.array(left_dataset_list)\n",
    "            right_dataset = np.array(right_dataset_list)\n",
    "\n",
    "            prob_left = len(left_dataset) / len(dataset)\n",
    "            prob_right = len(right_dataset) / len(dataset)\n",
    "\n",
    "            information_gain = entropy_complete_dataset - prob_left * cal_entropy(left_dataset) + prob_right * cal_entropy(right_dataset)\n",
    "\n",
    "            if information_gain > best_info_gain:\n",
    "                best_info_gain = information_gain\n",
    "                best_feature_index = best_feature_index\n",
    "                best_value = best_feature_value\n",
    "\n",
    "    return best_info_gain, best_feature_index, best_feature_value\n",
    "\n",
    "\n",
    "\n",
    "\n"
   ]
  }
 ],
 "metadata": {
  "kernelspec": {
   "display_name": "Python 3",
   "language": "python",
   "name": "python3"
  },
  "language_info": {
   "codemirror_mode": {
    "name": "ipython",
    "version": 3
   },
   "file_extension": ".py",
   "mimetype": "text/x-python",
   "name": "python",
   "nbconvert_exporter": "python",
   "pygments_lexer": "ipython3",
   "version": "3.8.6"
  }
 },
 "nbformat": 4,
 "nbformat_minor": 5
}
