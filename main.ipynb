{
 "cells": [
  {
   "cell_type": "code",
   "execution_count": 1,
   "id": "a1e9cdc8",
   "metadata": {},
   "outputs": [],
   "source": [
    "import numpy as np"
   ]
  },
  {
   "cell_type": "code",
   "execution_count": 2,
   "id": "5dbca182",
   "metadata": {},
   "outputs": [],
   "source": [
    "# Reading in the datasets\n",
    "clean_dataset = np.loadtxt('Dataset/clean_dataset.txt')\n",
    "noisy_dataset = np.loadtxt('Dataset/noisy_dataset.txt')"
   ]
  },
  {
   "cell_type": "code",
   "execution_count": 3,
   "id": "a74bec86",
   "metadata": {},
   "outputs": [
    {
     "name": "stdout",
     "output_type": "stream",
     "text": [
      "(2000, 8)\n"
     ]
    }
   ],
   "source": [
    "print(clean_dataset.shape)"
   ]
  },
  {
   "cell_type": "code",
   "execution_count": 4,
   "id": "68a0d43e",
   "metadata": {},
   "outputs": [
    {
     "name": "stdout",
     "output_type": "stream",
     "text": [
      "(2000, 8)\n"
     ]
    }
   ],
   "source": [
    "print(noisy_dataset.shape)"
   ]
  },
  {
   "cell_type": "code",
   "execution_count": 6,
   "id": "c657f244",
   "metadata": {},
   "outputs": [
    {
     "name": "stdout",
     "output_type": "stream",
     "text": [
      "[[-61. -60. -68. -62. -77. -90. -80.   1.]\n",
      " [-63. -65. -60. -63. -77. -81. -87.   1.]]\n"
     ]
    }
   ],
   "source": [
    "print(clean_dataset[1:5][2:4])"
   ]
  },
  {
   "cell_type": "code",
   "execution_count": 9,
   "id": "a03f2f42",
   "metadata": {},
   "outputs": [
    {
     "data": {
      "text/plain": [
       "array([1., 2., 3., 4.])"
      ]
     },
     "execution_count": 9,
     "metadata": {},
     "output_type": "execute_result"
    }
   ],
   "source": [
    "np.unique(clean_dataset[:, -1])"
   ]
  },
  {
   "cell_type": "code",
   "execution_count": 16,
   "id": "707a30c7",
   "metadata": {},
   "outputs": [
    {
     "name": "stdout",
     "output_type": "stream",
     "text": [
      "4\n",
      "[500 500 500 500]\n"
     ]
    }
   ],
   "source": [
    "nique, counts = np.unique(clean_dataset[:,-1], return_counts=True)\n",
    "# result = dict(zip(clean_dataset, counts))\n",
    "print(len(nique))\n",
    "print(counts)"
   ]
  },
  {
   "cell_type": "code",
   "execution_count": 17,
   "id": "59a3d63c",
   "metadata": {},
   "outputs": [],
   "source": [
    "# Placeholder function to calculate entropy\n",
    "def cal_entropy(dataset):\n",
    "\n",
    "    nique, counts = np.unique(dataset[:,-1], return_counts=True)\n",
    "\n",
    "    pk_values = []\n",
    "\n",
    "    # calculating pk values\n",
    "    for k in range(len(nique)):\n",
    "        pk = counts[k]/len(dataset[:, -1])\n",
    "        pk_values.append(pk)\n",
    "\n",
    "    entropy = 0\n",
    "    # calculating entropy based on pk values\n",
    "    for pk in pk_values:\n",
    "        entropy += (pk * np.log2(pk))\n",
    "\n",
    "    return -1 * entropy"
   ]
  },
  {
   "cell_type": "code",
   "execution_count": 18,
   "id": "30943eea",
   "metadata": {},
   "outputs": [],
   "source": [
    "# Function to calculate the best split feature and value\n",
    "# We will iterate through all possible split points\n",
    "def find_split(dataset):\n",
    "\n",
    "    # Initialisation\n",
    "    best_info_gain = -9999\n",
    "    best_feature_index = None\n",
    "    best_feature_value = None\n",
    "\n",
    "    entropy_complete_dataset = cal_entropy(dataset)\n",
    "\n",
    "    # Loop through all features\n",
    "    for feature_index in range(dataset.shape[1]-1):\n",
    "        # Get unique feature values\n",
    "        unique_feature_values = np.unique(dataset[:,feature_index])\n",
    "\n",
    "        # Find all potential split points (midpoint between the values)\n",
    "        potential_splits = []\n",
    "\n",
    "        for i in range(len(unique_feature_values)-1):\n",
    "            current_value = unique_feature_values[i]\n",
    "            next_value = unique_feature_values[i+1]\n",
    "\n",
    "            mid_value = (current_value+next_value)/2\n",
    "\n",
    "            potential_splits.append(mid_value)\n",
    "\n",
    "        for split_value in potential_splits:\n",
    "            left_dataset_list = []\n",
    "            right_dataset_list = []\n",
    "\n",
    "            for row in dataset:\n",
    "                if row[feature_index] <= split_value:\n",
    "                    left_dataset_list.append(row)\n",
    "                else:\n",
    "                    right_dataset_list.append(row)\n",
    "            \n",
    "            left_dataset = np.array(left_dataset_list)\n",
    "            right_dataset = np.array(right_dataset_list)\n",
    "\n",
    "            prob_left = len(left_dataset) / len(dataset)\n",
    "            prob_right = len(right_dataset) / len(dataset)\n",
    "\n",
    "            information_gain = entropy_complete_dataset - (prob_left * cal_entropy(left_dataset) + (prob_right * cal_entropy(right_dataset)))\n",
    " \n",
    "            if information_gain > best_info_gain:\n",
    "                best_info_gain = information_gain\n",
    "                best_feature_index = best_feature_index\n",
    "                best_value = best_feature_value\n",
    "\n",
    "    return best_info_gain, best_feature_index, best_feature_value"
   ]
  },
  {
   "cell_type": "code",
   "execution_count": 23,
   "id": "d77e70d7",
   "metadata": {},
   "outputs": [
    {
     "name": "stdout",
     "output_type": "stream",
     "text": [
      "1.9709505944546686\n"
     ]
    }
   ],
   "source": [
    "print(cal_entropy(np.array([[1],[1],[1],[2],[2],[3],[3],[3],[4],[4]])))"
   ]
  },
  {
   "cell_type": "code",
   "execution_count": 29,
   "id": "1c909372",
   "metadata": {},
   "outputs": [
    {
     "name": "stdout",
     "output_type": "stream",
     "text": [
      "True\n"
     ]
    }
   ],
   "source": [
    "print(cal_entropy(np.array([[2],[2],[2],[2],[2]])) == 0)\n"
   ]
  },
  {
   "cell_type": "code",
   "execution_count": null,
   "id": "87e445e3",
   "metadata": {},
   "outputs": [],
   "source": [
    "# Our node class\n",
    "class Node:\n",
    "  def __init__(self, left = None, right = None, splitValue = None, isLeaf = False, prediction = None) -> None:\n",
    "    self.left = left\n",
    "    self.right = right\n",
    "    self.isLeaf = isLeaf\n",
    "    self.splitValue = splitValue\n",
    "    self.prediction = prediction"
   ]
  },
  {
   "cell_type": "code",
   "execution_count": null,
   "id": "bb98e124",
   "metadata": {},
   "outputs": [],
   "source": [
    "def decision_tree_learning(dataset, depth):\n",
    "\n",
    "    \n",
    "    \n",
    "    if cal_entropy(dataset) == 0:\n",
    "        nique, counts = np.unique(clean_dataset[:,-1], return_counts=True)\n",
    "        leafNode = Node(isLeaf=True, prediction=counts[0])\n",
    "        return leafNode\n",
    "    \n",
    "    split = find_split(dataset)\n",
    "\n",
    "    # Best feature index \n",
    "    # best info gain\n",
    "    # best feature value\n",
    "    node = Node()\n",
    "\n",
    "# result = dict(zip(clean_dataset, counts))\n",
    "print(len(nique))\n",
    "print(counts)\n",
    "    "
   ]
  }
 ],
 "metadata": {
  "kernelspec": {
   "display_name": "redditEnv",
   "language": "python",
   "name": "python3"
  },
  "language_info": {
   "codemirror_mode": {
    "name": "ipython",
    "version": 3
   },
   "file_extension": ".py",
   "mimetype": "text/x-python",
   "name": "python",
   "nbconvert_exporter": "python",
   "pygments_lexer": "ipython3",
   "version": "3.9.16"
  }
 },
 "nbformat": 4,
 "nbformat_minor": 5
}
